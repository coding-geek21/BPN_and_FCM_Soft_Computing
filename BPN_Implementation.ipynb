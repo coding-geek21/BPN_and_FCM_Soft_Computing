{
  "nbformat": 4,
  "nbformat_minor": 0,
  "metadata": {
    "colab": {
      "name": "BPN Implementation",
      "provenance": [],
      "collapsed_sections": [],
      "authorship_tag": "ABX9TyOr5RIJuTdNDg8u6Qh8kEX2",
      "include_colab_link": true
    },
    "kernelspec": {
      "name": "python3",
      "display_name": "Python 3"
    },
    "language_info": {
      "name": "python"
    }
  },
  "cells": [
    {
      "cell_type": "markdown",
      "metadata": {
        "id": "view-in-github",
        "colab_type": "text"
      },
      "source": [
        "<a href=\"https://colab.research.google.com/github/coding-geek21/BPN_and_FCM_Soft_Computing/blob/master/BPN_Implementation.ipynb\" target=\"_parent\"><img src=\"https://colab.research.google.com/assets/colab-badge.svg\" alt=\"Open In Colab\"/></a>"
      ]
    },
    {
      "cell_type": "markdown",
      "source": [
        "# **Back Propagation Network Implementation**"
      ],
      "metadata": {
        "id": "wUuhGirQLkIp"
      }
    },
    {
      "cell_type": "markdown",
      "source": [
        "## **Objective:**\n",
        "#### To implement back propagation network on Iris dataset to classify the Iris species"
      ],
      "metadata": {
        "id": "deunHi0DLt7-"
      }
    },
    {
      "cell_type": "markdown",
      "source": [
        "## **Steps Involved**\n",
        "\n",
        "\n",
        "1.   Import Modules\n",
        "2.   Load Dataset\n",
        "3.   Data Preprocessing\n",
        "4.   Initializing the network\n",
        "5.   Training network\n",
        "> *   Forward propagation\n",
        "  *   Backward Propagation Error\n",
        "  *   Weight Updation\n",
        "6.   Forward propagation\n",
        "> *   input activation function\n",
        "  *   finding transfer i.e f(yin)\n",
        "7.   Back propation of error\n",
        "> *   finding error value (tk-yk)\n",
        "  *   finding transfer derivative i.e f'(yin)\n",
        "8.   Weight updation\n",
        "9.   Predict function\n",
        "10.  Store the accuracy for all the folds \n",
        "11.  Find the mean accuracy for the folds\n",
        "\n",
        "\n",
        "\n",
        "\n"
      ],
      "metadata": {
        "id": "tJDCp1tMMJ-g"
      }
    },
    {
      "cell_type": "markdown",
      "source": [
        "#### **IMPORTING MODULES**"
      ],
      "metadata": {
        "id": "L2gm8RuZh8H5"
      }
    },
    {
      "cell_type": "code",
      "source": [
        "import pandas as pd\n",
        "import numpy as np\n",
        "from sklearn.preprocessing import StandardScaler\n",
        "from sklearn.model_selection import train_test_split\n",
        "from random import randrange\n",
        "from random import random\n",
        "from csv import reader\n",
        "from math import exp"
      ],
      "metadata": {
        "id": "leGZJtG9ERMb"
      },
      "execution_count": 42,
      "outputs": []
    },
    {
      "cell_type": "markdown",
      "source": [
        "#### **LOADING DATASET**"
      ],
      "metadata": {
        "id": "Sy_WghIrh6ea"
      }
    },
    {
      "cell_type": "code",
      "source": [
        "df=pd.read_csv(\"Iris.csv\")\n",
        "df.head(5)"
      ],
      "metadata": {
        "colab": {
          "base_uri": "https://localhost:8080/",
          "height": 206
        },
        "id": "nsAuZDu2gnCw",
        "outputId": "aba49bf9-8a88-471e-9255-f3512fb35231"
      },
      "execution_count": 43,
      "outputs": [
        {
          "output_type": "execute_result",
          "data": {
            "text/plain": [
              "   Id  SepalLengthCm  SepalWidthCm  PetalLengthCm  PetalWidthCm      Species\n",
              "0   1            5.1           3.5            1.4           0.2  Iris-setosa\n",
              "1   2            4.9           3.0            1.4           0.2  Iris-setosa\n",
              "2   3            4.7           3.2            1.3           0.2  Iris-setosa\n",
              "3   4            4.6           3.1            1.5           0.2  Iris-setosa\n",
              "4   5            5.0           3.6            1.4           0.2  Iris-setosa"
            ],
            "text/html": [
              "\n",
              "  <div id=\"df-415b8e08-3a82-4f1f-a45e-f8e0e745cc78\">\n",
              "    <div class=\"colab-df-container\">\n",
              "      <div>\n",
              "<style scoped>\n",
              "    .dataframe tbody tr th:only-of-type {\n",
              "        vertical-align: middle;\n",
              "    }\n",
              "\n",
              "    .dataframe tbody tr th {\n",
              "        vertical-align: top;\n",
              "    }\n",
              "\n",
              "    .dataframe thead th {\n",
              "        text-align: right;\n",
              "    }\n",
              "</style>\n",
              "<table border=\"1\" class=\"dataframe\">\n",
              "  <thead>\n",
              "    <tr style=\"text-align: right;\">\n",
              "      <th></th>\n",
              "      <th>Id</th>\n",
              "      <th>SepalLengthCm</th>\n",
              "      <th>SepalWidthCm</th>\n",
              "      <th>PetalLengthCm</th>\n",
              "      <th>PetalWidthCm</th>\n",
              "      <th>Species</th>\n",
              "    </tr>\n",
              "  </thead>\n",
              "  <tbody>\n",
              "    <tr>\n",
              "      <th>0</th>\n",
              "      <td>1</td>\n",
              "      <td>5.1</td>\n",
              "      <td>3.5</td>\n",
              "      <td>1.4</td>\n",
              "      <td>0.2</td>\n",
              "      <td>Iris-setosa</td>\n",
              "    </tr>\n",
              "    <tr>\n",
              "      <th>1</th>\n",
              "      <td>2</td>\n",
              "      <td>4.9</td>\n",
              "      <td>3.0</td>\n",
              "      <td>1.4</td>\n",
              "      <td>0.2</td>\n",
              "      <td>Iris-setosa</td>\n",
              "    </tr>\n",
              "    <tr>\n",
              "      <th>2</th>\n",
              "      <td>3</td>\n",
              "      <td>4.7</td>\n",
              "      <td>3.2</td>\n",
              "      <td>1.3</td>\n",
              "      <td>0.2</td>\n",
              "      <td>Iris-setosa</td>\n",
              "    </tr>\n",
              "    <tr>\n",
              "      <th>3</th>\n",
              "      <td>4</td>\n",
              "      <td>4.6</td>\n",
              "      <td>3.1</td>\n",
              "      <td>1.5</td>\n",
              "      <td>0.2</td>\n",
              "      <td>Iris-setosa</td>\n",
              "    </tr>\n",
              "    <tr>\n",
              "      <th>4</th>\n",
              "      <td>5</td>\n",
              "      <td>5.0</td>\n",
              "      <td>3.6</td>\n",
              "      <td>1.4</td>\n",
              "      <td>0.2</td>\n",
              "      <td>Iris-setosa</td>\n",
              "    </tr>\n",
              "  </tbody>\n",
              "</table>\n",
              "</div>\n",
              "      <button class=\"colab-df-convert\" onclick=\"convertToInteractive('df-415b8e08-3a82-4f1f-a45e-f8e0e745cc78')\"\n",
              "              title=\"Convert this dataframe to an interactive table.\"\n",
              "              style=\"display:none;\">\n",
              "        \n",
              "  <svg xmlns=\"http://www.w3.org/2000/svg\" height=\"24px\"viewBox=\"0 0 24 24\"\n",
              "       width=\"24px\">\n",
              "    <path d=\"M0 0h24v24H0V0z\" fill=\"none\"/>\n",
              "    <path d=\"M18.56 5.44l.94 2.06.94-2.06 2.06-.94-2.06-.94-.94-2.06-.94 2.06-2.06.94zm-11 1L8.5 8.5l.94-2.06 2.06-.94-2.06-.94L8.5 2.5l-.94 2.06-2.06.94zm10 10l.94 2.06.94-2.06 2.06-.94-2.06-.94-.94-2.06-.94 2.06-2.06.94z\"/><path d=\"M17.41 7.96l-1.37-1.37c-.4-.4-.92-.59-1.43-.59-.52 0-1.04.2-1.43.59L10.3 9.45l-7.72 7.72c-.78.78-.78 2.05 0 2.83L4 21.41c.39.39.9.59 1.41.59.51 0 1.02-.2 1.41-.59l7.78-7.78 2.81-2.81c.8-.78.8-2.07 0-2.86zM5.41 20L4 18.59l7.72-7.72 1.47 1.35L5.41 20z\"/>\n",
              "  </svg>\n",
              "      </button>\n",
              "      \n",
              "  <style>\n",
              "    .colab-df-container {\n",
              "      display:flex;\n",
              "      flex-wrap:wrap;\n",
              "      gap: 12px;\n",
              "    }\n",
              "\n",
              "    .colab-df-convert {\n",
              "      background-color: #E8F0FE;\n",
              "      border: none;\n",
              "      border-radius: 50%;\n",
              "      cursor: pointer;\n",
              "      display: none;\n",
              "      fill: #1967D2;\n",
              "      height: 32px;\n",
              "      padding: 0 0 0 0;\n",
              "      width: 32px;\n",
              "    }\n",
              "\n",
              "    .colab-df-convert:hover {\n",
              "      background-color: #E2EBFA;\n",
              "      box-shadow: 0px 1px 2px rgba(60, 64, 67, 0.3), 0px 1px 3px 1px rgba(60, 64, 67, 0.15);\n",
              "      fill: #174EA6;\n",
              "    }\n",
              "\n",
              "    [theme=dark] .colab-df-convert {\n",
              "      background-color: #3B4455;\n",
              "      fill: #D2E3FC;\n",
              "    }\n",
              "\n",
              "    [theme=dark] .colab-df-convert:hover {\n",
              "      background-color: #434B5C;\n",
              "      box-shadow: 0px 1px 3px 1px rgba(0, 0, 0, 0.15);\n",
              "      filter: drop-shadow(0px 1px 2px rgba(0, 0, 0, 0.3));\n",
              "      fill: #FFFFFF;\n",
              "    }\n",
              "  </style>\n",
              "\n",
              "      <script>\n",
              "        const buttonEl =\n",
              "          document.querySelector('#df-415b8e08-3a82-4f1f-a45e-f8e0e745cc78 button.colab-df-convert');\n",
              "        buttonEl.style.display =\n",
              "          google.colab.kernel.accessAllowed ? 'block' : 'none';\n",
              "\n",
              "        async function convertToInteractive(key) {\n",
              "          const element = document.querySelector('#df-415b8e08-3a82-4f1f-a45e-f8e0e745cc78');\n",
              "          const dataTable =\n",
              "            await google.colab.kernel.invokeFunction('convertToInteractive',\n",
              "                                                     [key], {});\n",
              "          if (!dataTable) return;\n",
              "\n",
              "          const docLinkHtml = 'Like what you see? Visit the ' +\n",
              "            '<a target=\"_blank\" href=https://colab.research.google.com/notebooks/data_table.ipynb>data table notebook</a>'\n",
              "            + ' to learn more about interactive tables.';\n",
              "          element.innerHTML = '';\n",
              "          dataTable['output_type'] = 'display_data';\n",
              "          await google.colab.output.renderOutput(dataTable, element);\n",
              "          const docLink = document.createElement('div');\n",
              "          docLink.innerHTML = docLinkHtml;\n",
              "          element.appendChild(docLink);\n",
              "        }\n",
              "      </script>\n",
              "    </div>\n",
              "  </div>\n",
              "  "
            ]
          },
          "metadata": {},
          "execution_count": 43
        }
      ]
    },
    {
      "cell_type": "code",
      "source": [
        "# Loading CSV file\n",
        "def load_csv(filename):\n",
        "\tdataset = list()\n",
        "\twith open(filename, 'r') as file:\n",
        "\t\tcsv_reader = reader(file)\n",
        "\t\tfor row in csv_reader:\n",
        "\t\t\tif not row:\n",
        "\t\t\t\tcontinue\n",
        "\t\t\tdataset.append(row)\n",
        "\treturn dataset\n"
      ],
      "metadata": {
        "id": "35wTBEX6gPem"
      },
      "execution_count": 44,
      "outputs": []
    },
    {
      "cell_type": "markdown",
      "source": [
        "#### **DATA PREPROCESSING**"
      ],
      "metadata": {
        "id": "G2z3XZySiW0n"
      }
    },
    {
      "cell_type": "code",
      "source": [
        "# Convert string column to float\n",
        "def str_column_to_float(dataset, column):\n",
        "\tfor row in dataset:\n",
        "\t\trow[column] = float(row[column].strip())\n",
        " \n",
        "# Convert string column to integer\n",
        "def str_column_to_int(dataset, column):\n",
        "\tclass_values = [row[column] for row in dataset]\n",
        "\tunique = set(class_values)\n",
        "\tlookup = dict()\n",
        "\tfor i, value in enumerate(unique):\n",
        "\t\tlookup[value] = i\n",
        "\tfor row in dataset:\n",
        "\t\trow[column] = lookup[row[column]]\n",
        "\treturn lookup"
      ],
      "metadata": {
        "id": "hzLF_LV_gUDd"
      },
      "execution_count": 45,
      "outputs": []
    },
    {
      "cell_type": "code",
      "source": [
        "# Min max scaling\n",
        "\n",
        "def dataset_minmax(dataset):\n",
        "\tminmax = list()\n",
        "\tstats = [[min(column), max(column)] for column in zip(*dataset)]\n",
        "\treturn stats\n",
        "\n",
        "def normalize_dataset(dataset, minmax):\n",
        "\tfor row in dataset:\n",
        "\t\tfor i in range(len(row)-1):\n",
        "\t\t\trow[i] = (row[i] - minmax[i][0]) / (minmax[i][1] - minmax[i][0])"
      ],
      "metadata": {
        "id": "CnLYCdhVgbRR"
      },
      "execution_count": 46,
      "outputs": []
    },
    {
      "cell_type": "markdown",
      "source": [
        "#### **K-FOLD CROSS VALIDATION**"
      ],
      "metadata": {
        "id": "RfMgghUUid_g"
      }
    },
    {
      "cell_type": "code",
      "source": [
        "# Split a dataset into k folds\n",
        "def cross_validation_split(dataset, n_folds):\n",
        "\tdataset_split = list()\n",
        "\tdataset_copy = list(dataset)\n",
        "\tfold_size = int(len(dataset) / n_folds)\n",
        "\tfor i in range(n_folds):\n",
        "\t\tfold = list()\n",
        "\t\twhile len(fold) < fold_size:\n",
        "\t\t\tindex = randrange(len(dataset_copy))\n",
        "\t\t\tfold.append(dataset_copy.pop(index))\n",
        "\t\tdataset_split.append(fold)\n",
        "\treturn dataset_split"
      ],
      "metadata": {
        "id": "ZL7aAfhHgnPY"
      },
      "execution_count": 47,
      "outputs": []
    },
    {
      "cell_type": "code",
      "source": [
        "# Calculate accuracy percentage\n",
        "def accuracy_metric(actual, predicted):\n",
        "\tcorrect = 0\n",
        "\tfor i in range(len(actual)):\n",
        "\t\tprint(\"Actual Output:\", actual[i] , \"Predicted:\", predicted[i])\n",
        "\t\tif actual[i] == predicted[i]:\n",
        "\t\t\tcorrect += 1\n",
        "\treturn correct / float(len(actual)) * 100.0"
      ],
      "metadata": {
        "id": "jiFNic-igqjg"
      },
      "execution_count": 48,
      "outputs": []
    },
    {
      "cell_type": "code",
      "source": [
        "# Evaluate an algorithm using a cross validation split\n",
        "def evaluate_algorithm(dataset, algorithm, n_folds, *args):\n",
        "\tfolds = cross_validation_split(dataset, n_folds)\n",
        "\tscores = list()\n",
        "\tfor fold in folds:\n",
        "\t\ttrain_set = list(folds)\n",
        "\t\ttrain_set.remove(fold)\n",
        "\t\ttrain_set = sum(train_set, [])\n",
        "\t\ttest_set = list()\n",
        "\t\tfor row in fold:\n",
        "\t\t\trow_copy = list(row)\n",
        "\t\t\ttest_set.append(row_copy)\n",
        "\t\t\trow_copy[-1] = None\n",
        "\t\tpredicted = algorithm(train_set, test_set, *args)\n",
        "\t\tactual = [row[-1] for row in fold]\n",
        "\t\taccuracy = accuracy_metric(actual, predicted)\n",
        "\t\tscores.append(accuracy)\n",
        "\treturn scores"
      ],
      "metadata": {
        "id": "qvSUwfTZgyXI"
      },
      "execution_count": 49,
      "outputs": []
    },
    {
      "cell_type": "markdown",
      "source": [
        "#### **ACTIVATION FUNCTION**"
      ],
      "metadata": {
        "id": "41PhaNEui4LM"
      }
    },
    {
      "cell_type": "code",
      "source": [
        " \n",
        "# Calculate neuron activation for an input\n",
        "# net input calculation yink = w0k + summation(wjk*zj)\n",
        "\n",
        "def activate(weights, inputs):\n",
        "\tactivation = weights[-1]\n",
        "\tfor i in range(len(weights)-1):\n",
        "\t\tactivation += weights[i] * inputs[i]\n",
        "\treturn activation"
      ],
      "metadata": {
        "id": "ecfi52HMg11X"
      },
      "execution_count": 50,
      "outputs": []
    },
    {
      "cell_type": "code",
      "source": [
        "# Transfer neuron activation  #binary sigmoidal function\n",
        "def transfer(activation):\n",
        "\treturn 1.0 / (1.0 + exp(-activation))  "
      ],
      "metadata": {
        "id": "to0Y92gYg4tT"
      },
      "execution_count": 51,
      "outputs": []
    },
    {
      "cell_type": "markdown",
      "source": [
        "### **FORWARD PROPAGATION**"
      ],
      "metadata": {
        "id": "JlQPLEsNjLo8"
      }
    },
    {
      "cell_type": "code",
      "source": [
        "# Forward propagate input to a network output\n",
        "# Feed forward phase\n",
        "\n",
        "def forward_propagate(network, row):\n",
        "\tinputs = row\n",
        "\tfor layer in network:\n",
        "\t\tnew_inputs = []\n",
        "\t\tfor neuron in layer:\n",
        "\t\t\tactivation = activate(neuron['weights'], inputs)\n",
        "\t\t\tneuron['output'] = transfer(activation)     # binary sigmoidal function\n",
        "\t\t\tnew_inputs.append(neuron['output'])\n",
        "\t\tinputs = new_inputs\n",
        "\treturn inputs"
      ],
      "metadata": {
        "id": "Vx5Bdfqcg8fo"
      },
      "execution_count": 52,
      "outputs": []
    },
    {
      "cell_type": "code",
      "source": [
        "# Calculate the derivative of an neuron output   \n",
        "# f'(yink)\n",
        "\n",
        "def transfer_derivative(output):\n",
        "\treturn output * (1.0 - output)"
      ],
      "metadata": {
        "id": "KFjtyV02g_GL"
      },
      "execution_count": 53,
      "outputs": []
    },
    {
      "cell_type": "markdown",
      "source": [
        "### **BACKPROPAGATING ERROR**"
      ],
      "metadata": {
        "id": "ep5Hz9GPjVp2"
      }
    },
    {
      "cell_type": "code",
      "source": [
        "# Backpropagate error and store in neurons\n",
        "def backward_propagate_error(network, expected):\n",
        "\tfor i in reversed(range(len(network))):\n",
        "\t\tlayer = network[i]\n",
        "\t\terrors = list()\n",
        "\t\tif i != len(network)-1:\n",
        "\t\t\tfor j in range(len(layer)):\n",
        "\t\t\t\terror = 0.0\n",
        "\t\t\t\tfor neuron in network[i + 1]:\n",
        "\t\t\t\t\terror += (neuron['weights'][j] * neuron['delta'])\n",
        "\t\t\t\terrors.append(error)\n",
        "\t\telse:\n",
        "\t\t\tfor j in range(len(layer)):\n",
        "\t\t\t\tneuron = layer[j]\n",
        "\n",
        "\t\t\t\t#  error term (tk-yk)\n",
        "\t\t\t\t\n",
        "\t\t\t\terrors.append(neuron['output'] - expected[j])   \n",
        "\t\tfor j in range(len(layer)):\n",
        "\t\t\tneuron = layer[j]\n",
        "\n",
        "\t\t\t# del k = (tk-yk)*f'(yink)\n",
        "\n",
        "\t\t\tneuron['delta'] = errors[j] * transfer_derivative(neuron['output'])  "
      ],
      "metadata": {
        "id": "wDvgCIROhBYS"
      },
      "execution_count": 54,
      "outputs": []
    },
    {
      "cell_type": "markdown",
      "source": [
        "### **WEIGHT UPDATION**"
      ],
      "metadata": {
        "id": "i8xy-lpmjiD9"
      }
    },
    {
      "cell_type": "code",
      "source": [
        "# Update network weights with error\n",
        "def update_weights(network, row, l_rate):\n",
        "\tfor i in range(len(network)):\n",
        "\t\tinputs = row[:-1]\n",
        "\t\tif i != 0:\n",
        "\t\t\tinputs = [neuron['output'] for neuron in network[i - 1]]\n",
        "\t\tfor neuron in network[i]:\n",
        "\t\t\tfor j in range(len(inputs)):\n",
        "\n",
        "\t\t\t\t# change in weights = learning rate * delta * input \n",
        "\t\t\t\t# change in weights for w0 = learning rate * delta\n",
        "\t\t\t\t\n",
        "\t\t\t\tneuron['weights'][j] -= l_rate * neuron['delta'] * inputs[j]\n",
        "\t\t\tneuron['weights'][-1] -= l_rate * neuron['delta']"
      ],
      "metadata": {
        "id": "A_DvgZGIhGA7"
      },
      "execution_count": 55,
      "outputs": []
    },
    {
      "cell_type": "markdown",
      "source": [
        "### **TRAINING**"
      ],
      "metadata": {
        "id": "v5U7umo1jq9U"
      }
    },
    {
      "cell_type": "code",
      "source": [
        "# Train a network for a fixed number of epochs\n",
        "def train_network(network, train, l_rate, n_epoch, n_outputs):\n",
        "\tfor epoch in range(n_epoch):\n",
        "\t\tfor row in train:\n",
        "\t\t\toutputs = forward_propagate(network, row)\n",
        "\t\t\texpected = [0 for i in range(n_outputs)]\n",
        "\t\t\texpected[row[-1]] = 1\n",
        "\t\t\tbackward_propagate_error(network, expected)\n",
        "\t\t\tupdate_weights(network, row, l_rate)"
      ],
      "metadata": {
        "id": "50xlvAUGhLgA"
      },
      "execution_count": 56,
      "outputs": []
    },
    {
      "cell_type": "code",
      "source": [
        "# Initialize a network\n",
        "def initialize_network(n_inputs, n_hidden, n_outputs):\n",
        "\tnetwork = list()\n",
        "\thidden_layer = [{'weights':[random() for i in range(n_inputs + 1)]} for i in range(n_hidden)]\n",
        "\tnetwork.append(hidden_layer)\n",
        "\toutput_layer = [{'weights':[random() for i in range(n_hidden + 1)]} for i in range(n_outputs)]\n",
        "\tnetwork.append(output_layer)\n",
        "\treturn network"
      ],
      "metadata": {
        "id": "PyUdKlMRhZla"
      },
      "execution_count": 57,
      "outputs": []
    },
    {
      "cell_type": "markdown",
      "source": [
        "### **PREDICTION**"
      ],
      "metadata": {
        "id": "xCCUVr3Nj3xB"
      }
    },
    {
      "cell_type": "code",
      "source": [
        "# Make a prediction with a network\n",
        "def predict(network, row):\n",
        "\toutputs = forward_propagate(network, row)\n",
        "\treturn outputs.index(max(outputs))"
      ],
      "metadata": {
        "id": "pfNduh_ZhcJT"
      },
      "execution_count": 58,
      "outputs": []
    },
    {
      "cell_type": "markdown",
      "source": [
        "### **BPN**"
      ],
      "metadata": {
        "id": "V7KwlqgSj9eL"
      }
    },
    {
      "cell_type": "code",
      "source": [
        " # Backpropagation Algorithm\n",
        " \n",
        "def back_propagation(train, test, l_rate, n_epoch, n_hidden):\n",
        "\tn_inputs = len(train[0]) - 1\n",
        "\tn_outputs = len(set([row[-1] for row in train]))\n",
        "\tnetwork = initialize_network(n_inputs, n_hidden, n_outputs)\n",
        "\tprint(\"Inputs:\", n_inputs, \"Hidden:\", n_hidden, \"Output:\", n_outputs)\n",
        "\ttrain_network(network, train, l_rate, n_epoch, n_outputs)\n",
        "\tpredictions = list()\n",
        "\tfor row in test:\n",
        "\t\tprediction = predict(network, row)\n",
        "\t\tpredictions.append(prediction)\n",
        "\treturn(predictions)"
      ],
      "metadata": {
        "id": "L0pipfBQhexA"
      },
      "execution_count": 59,
      "outputs": []
    },
    {
      "cell_type": "code",
      "source": [
        "# load and prepare data\n",
        "filename = 'Iris_dataset.csv'\n",
        "dataset = load_csv(filename)\n",
        "for i in range(len(dataset[0])-1):\n",
        "\tstr_column_to_float(dataset, i)\n",
        " \n",
        "\n",
        "# convert class column to integers\n",
        "str_column_to_int(dataset, len(dataset[0])-1)\n",
        "\n",
        "\n",
        "# normalize input variables\n",
        "minmax = dataset_minmax(dataset)\n",
        "normalize_dataset(dataset, minmax)\n",
        "# evaluate algorithm\n",
        "n_folds = 5\n",
        "l_rate = 0.3\n",
        "n_epoch = 500\n",
        "n_hidden = 5\n",
        "scores = evaluate_algorithm(dataset, back_propagation, n_folds, l_rate, n_epoch, n_hidden)"
      ],
      "metadata": {
        "colab": {
          "base_uri": "https://localhost:8080/"
        },
        "id": "ZYwysjC1S9dJ",
        "outputId": "c451cf1a-277c-498a-f9fc-0cfcc66a7afc"
      },
      "execution_count": 60,
      "outputs": [
        {
          "output_type": "stream",
          "name": "stdout",
          "text": [
            "Inputs: 4 Hidden: 5 Output: 3\n",
            "Actual Output: 0 Predicted: 0\n",
            "Actual Output: 0 Predicted: 0\n",
            "Actual Output: 0 Predicted: 0\n",
            "Actual Output: 2 Predicted: 2\n",
            "Actual Output: 2 Predicted: 2\n",
            "Actual Output: 1 Predicted: 1\n",
            "Actual Output: 0 Predicted: 0\n",
            "Actual Output: 1 Predicted: 1\n",
            "Actual Output: 1 Predicted: 1\n",
            "Actual Output: 1 Predicted: 1\n",
            "Actual Output: 2 Predicted: 2\n",
            "Actual Output: 0 Predicted: 0\n",
            "Actual Output: 2 Predicted: 2\n",
            "Actual Output: 1 Predicted: 1\n",
            "Actual Output: 1 Predicted: 1\n",
            "Actual Output: 0 Predicted: 0\n",
            "Actual Output: 1 Predicted: 1\n",
            "Actual Output: 2 Predicted: 2\n",
            "Actual Output: 0 Predicted: 0\n",
            "Actual Output: 0 Predicted: 0\n",
            "Actual Output: 1 Predicted: 1\n",
            "Actual Output: 1 Predicted: 1\n",
            "Actual Output: 2 Predicted: 2\n",
            "Actual Output: 0 Predicted: 0\n",
            "Actual Output: 2 Predicted: 2\n",
            "Actual Output: 2 Predicted: 2\n",
            "Actual Output: 2 Predicted: 0\n",
            "Actual Output: 1 Predicted: 1\n",
            "Actual Output: 1 Predicted: 1\n",
            "Actual Output: 1 Predicted: 1\n",
            "Inputs: 4 Hidden: 5 Output: 3\n",
            "Actual Output: 2 Predicted: 2\n",
            "Actual Output: 1 Predicted: 1\n",
            "Actual Output: 2 Predicted: 2\n",
            "Actual Output: 1 Predicted: 1\n",
            "Actual Output: 0 Predicted: 0\n",
            "Actual Output: 1 Predicted: 1\n",
            "Actual Output: 2 Predicted: 2\n",
            "Actual Output: 0 Predicted: 0\n",
            "Actual Output: 2 Predicted: 2\n",
            "Actual Output: 1 Predicted: 1\n",
            "Actual Output: 1 Predicted: 1\n",
            "Actual Output: 2 Predicted: 2\n",
            "Actual Output: 1 Predicted: 1\n",
            "Actual Output: 1 Predicted: 1\n",
            "Actual Output: 0 Predicted: 2\n",
            "Actual Output: 1 Predicted: 1\n",
            "Actual Output: 0 Predicted: 0\n",
            "Actual Output: 0 Predicted: 0\n",
            "Actual Output: 0 Predicted: 0\n",
            "Actual Output: 2 Predicted: 2\n",
            "Actual Output: 1 Predicted: 1\n",
            "Actual Output: 2 Predicted: 2\n",
            "Actual Output: 0 Predicted: 0\n",
            "Actual Output: 2 Predicted: 2\n",
            "Actual Output: 0 Predicted: 0\n",
            "Actual Output: 1 Predicted: 1\n",
            "Actual Output: 1 Predicted: 1\n",
            "Actual Output: 2 Predicted: 2\n",
            "Actual Output: 0 Predicted: 0\n",
            "Actual Output: 2 Predicted: 2\n",
            "Inputs: 4 Hidden: 5 Output: 3\n",
            "Actual Output: 2 Predicted: 2\n",
            "Actual Output: 0 Predicted: 0\n",
            "Actual Output: 0 Predicted: 0\n",
            "Actual Output: 1 Predicted: 1\n",
            "Actual Output: 0 Predicted: 0\n",
            "Actual Output: 2 Predicted: 2\n",
            "Actual Output: 0 Predicted: 0\n",
            "Actual Output: 2 Predicted: 2\n",
            "Actual Output: 0 Predicted: 0\n",
            "Actual Output: 1 Predicted: 1\n",
            "Actual Output: 2 Predicted: 2\n",
            "Actual Output: 0 Predicted: 0\n",
            "Actual Output: 2 Predicted: 2\n",
            "Actual Output: 1 Predicted: 1\n",
            "Actual Output: 0 Predicted: 0\n",
            "Actual Output: 2 Predicted: 2\n",
            "Actual Output: 0 Predicted: 0\n",
            "Actual Output: 2 Predicted: 2\n",
            "Actual Output: 2 Predicted: 2\n",
            "Actual Output: 1 Predicted: 1\n",
            "Actual Output: 2 Predicted: 2\n",
            "Actual Output: 2 Predicted: 2\n",
            "Actual Output: 0 Predicted: 0\n",
            "Actual Output: 0 Predicted: 0\n",
            "Actual Output: 1 Predicted: 1\n",
            "Actual Output: 0 Predicted: 0\n",
            "Actual Output: 1 Predicted: 1\n",
            "Actual Output: 2 Predicted: 2\n",
            "Actual Output: 2 Predicted: 2\n",
            "Actual Output: 2 Predicted: 2\n",
            "Inputs: 4 Hidden: 5 Output: 3\n",
            "Actual Output: 0 Predicted: 0\n",
            "Actual Output: 1 Predicted: 1\n",
            "Actual Output: 1 Predicted: 1\n",
            "Actual Output: 1 Predicted: 1\n",
            "Actual Output: 0 Predicted: 0\n",
            "Actual Output: 2 Predicted: 2\n",
            "Actual Output: 2 Predicted: 0\n",
            "Actual Output: 0 Predicted: 0\n",
            "Actual Output: 0 Predicted: 0\n",
            "Actual Output: 0 Predicted: 0\n",
            "Actual Output: 1 Predicted: 1\n",
            "Actual Output: 0 Predicted: 2\n",
            "Actual Output: 1 Predicted: 1\n",
            "Actual Output: 2 Predicted: 2\n",
            "Actual Output: 1 Predicted: 1\n",
            "Actual Output: 0 Predicted: 0\n",
            "Actual Output: 0 Predicted: 0\n",
            "Actual Output: 0 Predicted: 0\n",
            "Actual Output: 0 Predicted: 0\n",
            "Actual Output: 1 Predicted: 1\n",
            "Actual Output: 0 Predicted: 0\n",
            "Actual Output: 0 Predicted: 0\n",
            "Actual Output: 2 Predicted: 2\n",
            "Actual Output: 2 Predicted: 2\n",
            "Actual Output: 2 Predicted: 2\n",
            "Actual Output: 0 Predicted: 0\n",
            "Actual Output: 1 Predicted: 1\n",
            "Actual Output: 1 Predicted: 1\n",
            "Actual Output: 2 Predicted: 2\n",
            "Actual Output: 2 Predicted: 2\n",
            "Inputs: 4 Hidden: 5 Output: 3\n",
            "Actual Output: 0 Predicted: 0\n",
            "Actual Output: 1 Predicted: 1\n",
            "Actual Output: 1 Predicted: 1\n",
            "Actual Output: 0 Predicted: 0\n",
            "Actual Output: 0 Predicted: 0\n",
            "Actual Output: 2 Predicted: 2\n",
            "Actual Output: 1 Predicted: 1\n",
            "Actual Output: 2 Predicted: 0\n",
            "Actual Output: 1 Predicted: 1\n",
            "Actual Output: 0 Predicted: 0\n",
            "Actual Output: 1 Predicted: 1\n",
            "Actual Output: 1 Predicted: 1\n",
            "Actual Output: 1 Predicted: 1\n",
            "Actual Output: 1 Predicted: 1\n",
            "Actual Output: 0 Predicted: 0\n",
            "Actual Output: 0 Predicted: 0\n",
            "Actual Output: 2 Predicted: 2\n",
            "Actual Output: 1 Predicted: 1\n",
            "Actual Output: 2 Predicted: 2\n",
            "Actual Output: 2 Predicted: 2\n",
            "Actual Output: 2 Predicted: 2\n",
            "Actual Output: 1 Predicted: 1\n",
            "Actual Output: 2 Predicted: 2\n",
            "Actual Output: 0 Predicted: 0\n",
            "Actual Output: 2 Predicted: 2\n",
            "Actual Output: 1 Predicted: 1\n",
            "Actual Output: 0 Predicted: 0\n",
            "Actual Output: 1 Predicted: 1\n",
            "Actual Output: 2 Predicted: 2\n",
            "Actual Output: 2 Predicted: 2\n"
          ]
        }
      ]
    },
    {
      "cell_type": "markdown",
      "source": [
        "### **Result**"
      ],
      "metadata": {
        "id": "wiWeTNDlmaZw"
      }
    },
    {
      "cell_type": "code",
      "source": [
        "print('Scores: %s' % scores)\n",
        "print('Mean Accuracy: %.3f%%' % (sum(scores)/float(len(scores))))"
      ],
      "metadata": {
        "colab": {
          "base_uri": "https://localhost:8080/"
        },
        "id": "x-7Z6c_QmWbq",
        "outputId": "7663c786-69ec-4d66-cadc-5ae0640f7b59"
      },
      "execution_count": 61,
      "outputs": [
        {
          "output_type": "stream",
          "name": "stdout",
          "text": [
            "Scores: [96.66666666666667, 96.66666666666667, 100.0, 93.33333333333333, 96.66666666666667]\n",
            "Mean Accuracy: 96.667%\n"
          ]
        }
      ]
    },
    {
      "cell_type": "markdown",
      "source": [
        "## **Conclusion:**\n",
        "#### The above python program to implement Back propagation network has been successfully completed and executed and classification of Iris species is done successfully"
      ],
      "metadata": {
        "id": "tYn0-7V9MTAp"
      }
    },
    {
      "cell_type": "code",
      "source": [
        ""
      ],
      "metadata": {
        "id": "ID3WUQClJxvE"
      },
      "execution_count": 61,
      "outputs": []
    }
  ]
}